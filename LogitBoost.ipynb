{
 "cells": [
  {
   "cell_type": "code",
   "execution_count": 1,
   "metadata": {
    "collapsed": true
   },
   "outputs": [],
   "source": [
    "import numpy as np\n",
    "import pandas as pd\n",
    "import matplotlib.pyplot as plt\n",
    "%matplotlib inline"
   ]
  },
  {
   "cell_type": "code",
   "execution_count": 2,
   "metadata": {},
   "outputs": [
    {
     "name": "stderr",
     "output_type": "stream",
     "text": [
      "C:\\ProgramData\\Anaconda3\\lib\\site-packages\\sklearn\\cross_validation.py:44: DeprecationWarning: This module was deprecated in version 0.18 in favor of the model_selection module into which all the refactored classes and functions are moved. Also note that the interface of the new CV iterators are different from that of this module. This module will be removed in 0.20.\n",
      "  \"This module will be removed in 0.20.\", DeprecationWarning)\n"
     ]
    }
   ],
   "source": [
    "from sklearn.datasets import load_breast_cancer\n",
    "from sklearn import cross_validation"
   ]
  },
  {
   "cell_type": "code",
   "execution_count": 3,
   "metadata": {
    "collapsed": true
   },
   "outputs": [],
   "source": [
    "cancer = load_breast_cancer()\n",
    "\n",
    "target = np.array([[1 if t == 0 else 0 for t in cancer.target],\n",
    "                   [1 if t == 1 else 0 for t in cancer.target]]).T\n",
    "#後述のargmaxを使用するためのデータ処理\n",
    "train_x,test_x,train_y,test_y = cross_validation.train_test_split(cancer.data,target,test_size=0.2)"
   ]
  },
  {
   "cell_type": "code",
   "execution_count": 4,
   "metadata": {
    "collapsed": true
   },
   "outputs": [],
   "source": [
    "ndarr_y = np.array(train_y)"
   ]
  },
  {
   "cell_type": "markdown",
   "metadata": {},
   "source": [
    "線形分類アルゴリズム"
   ]
  },
  {
   "cell_type": "code",
   "execution_count": 5,
   "metadata": {
    "collapsed": true
   },
   "outputs": [],
   "source": [
    "def weight_linear(a,b):\n",
    "    weight = np.linalg.inv(a.T.dot(a)).dot(a.T).dot(b)\n",
    "# .linalg.inv = 逆行列\n",
    "# .dot = ベクトルの積\n",
    "    return weight"
   ]
  },
  {
   "cell_type": "code",
   "execution_count": 16,
   "metadata": {
    "collapsed": true,
    "scrolled": true
   },
   "outputs": [],
   "source": [
    "y = train_y\n",
    "h = np.zeros(455)\n",
    "d = 0\n",
    "p = 0\n",
    "w = np.zeros((30,2))\n",
    "wtrain_x = np.zeros((455,30))\n",
    "\n",
    "for t in range(5):\n",
    "    if t < 3:\n",
    "        for i in range(455):\n",
    "            p = 1/(1+np.exp(-2*h[i]))\n",
    "            d = p*(1 - p)\n",
    "            y[i] = (y[i] - p)/d\n",
    "    \n",
    "            for j in range(30):\n",
    "                wtrain_x[i,j] = d*train_x[i,j]\n",
    "        w = w + weight_linear(wtrain_x,ndarr_y)\n",
    "        h = 0.5*np.array([np.argmax(w.T.dot(i)) for i in train_x])"
   ]
  },
  {
   "cell_type": "code",
   "execution_count": 18,
   "metadata": {
    "collapsed": true
   },
   "outputs": [],
   "source": [
    "pred_y = np.array([np.argmax(w.T.dot(i)) for i in test_x])\n",
    "# .argmax 最大要素のindexを返す。今回は0,1の2列なので0,1(クラス)で返す。"
   ]
  },
  {
   "cell_type": "code",
   "execution_count": 20,
   "metadata": {
    "collapsed": true
   },
   "outputs": [],
   "source": [
    "for t in range(114):\n",
    "    if pred_y[t] == 1:\n",
    "        pred_y[t] = 1\n",
    "    else:\n",
    "        pred_y[t] = -1     "
   ]
  },
  {
   "cell_type": "code",
   "execution_count": 21,
   "metadata": {
    "collapsed": true
   },
   "outputs": [],
   "source": [
    "pred_target = np.zeros(114)\n",
    "\n",
    "for i in range(114):\n",
    "    if pred_y[i] > 0:\n",
    "        pred_target[i] = 1\n",
    "    else:\n",
    "        pred_target[i] = 0   "
   ]
  },
  {
   "cell_type": "code",
   "execution_count": 22,
   "metadata": {
    "collapsed": true
   },
   "outputs": [],
   "source": [
    "t_y = np.zeros(114)\n",
    "for t in range(114):\n",
    "    if test_y[t,0] == 1:\n",
    "        t_y[t] = 0\n",
    "    else:\n",
    "        t_y[t] = 1"
   ]
  },
  {
   "cell_type": "code",
   "execution_count": 11,
   "metadata": {},
   "outputs": [
    {
     "data": {
      "text/plain": [
       "array([ 1.,  1.,  0.,  0.,  0.,  0.,  0.,  0.,  0.,  1.,  1.,  1.,  0.,\n",
       "        1.,  0.,  1.,  1.,  0.,  1.,  1.,  1.,  1.,  1.,  0.,  1.,  0.,\n",
       "        1.,  1.,  0.,  0.,  1.,  0.,  1.,  1.,  0.,  0.,  1.,  1.,  0.,\n",
       "        1.,  1.,  0.,  1.,  1.,  0.,  1.,  0.,  1.,  1.,  1.,  0.,  1.,\n",
       "        1.,  1.,  1.,  1.,  1.,  0.,  0.,  0.,  1.,  1.,  0.,  1.,  1.,\n",
       "        1.,  0.,  1.,  1.,  0.,  1.,  0.,  1.,  0.,  1.,  1.,  0.,  1.,\n",
       "        1.,  0.,  0.,  1.,  1.,  0.,  1.,  1.,  0.,  1.,  1.,  0.,  1.,\n",
       "        0.,  0.,  1.,  1.,  1.,  0.,  0.,  0.,  1.,  1.,  0.,  1.,  1.,\n",
       "        1.,  1.,  0.,  1.,  1.,  1.,  0.,  0.,  1.,  1.])"
      ]
     },
     "execution_count": 11,
     "metadata": {},
     "output_type": "execute_result"
    }
   ],
   "source": [
    "t_y"
   ]
  },
  {
   "cell_type": "code",
   "execution_count": 23,
   "metadata": {},
   "outputs": [
    {
     "data": {
      "text/plain": [
       "0.956140350877193"
      ]
     },
     "execution_count": 23,
     "metadata": {},
     "output_type": "execute_result"
    }
   ],
   "source": [
    "sum = 0\n",
    "for i in range(114):\n",
    "    if t_y[i] == pred_target[i]:\n",
    "        sum = sum +1\n",
    "positive_rate = sum/114\n",
    "positive_rate"
   ]
  },
  {
   "cell_type": "code",
   "execution_count": null,
   "metadata": {
    "collapsed": true
   },
   "outputs": [],
   "source": []
  }
 ],
 "metadata": {
  "kernelspec": {
   "display_name": "Python 3",
   "language": "python",
   "name": "python3"
  },
  "language_info": {
   "codemirror_mode": {
    "name": "ipython",
    "version": 3
   },
   "file_extension": ".py",
   "mimetype": "text/x-python",
   "name": "python",
   "nbconvert_exporter": "python",
   "pygments_lexer": "ipython3",
   "version": "3.6.1"
  }
 },
 "nbformat": 4,
 "nbformat_minor": 2
}
