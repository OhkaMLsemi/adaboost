{
 "cells": [
  {
   "cell_type": "code",
   "execution_count": 1,
   "metadata": {},
   "outputs": [
    {
     "name": "stderr",
     "output_type": "stream",
     "text": [
      "C:\\Users\\Mustang8\\Anaconda3\\lib\\site-packages\\sklearn\\cross_validation.py:44: DeprecationWarning: This module was deprecated in version 0.18 in favor of the model_selection module into which all the refactored classes and functions are moved. Also note that the interface of the new CV iterators are different from that of this module. This module will be removed in 0.20.\n",
      "  \"This module will be removed in 0.20.\", DeprecationWarning)\n",
      "C:\\Users\\Mustang8\\Anaconda3\\lib\\site-packages\\sklearn\\grid_search.py:43: DeprecationWarning: This module was deprecated in version 0.18 in favor of the model_selection module into which all the refactored classes and functions are moved. This module will be removed in 0.20.\n",
      "  DeprecationWarning)\n"
     ]
    }
   ],
   "source": [
    "from sklearn.datasets import make_blobs\n",
    "from sklearn.linear_model import LogisticRegression\n",
    "from sklearn.model_selection import train_test_split\n",
    "\n",
    "import math\n",
    "import pandas as pd\n",
    "import numpy as np\n",
    "import matplotlib.pyplot as plt\n",
    "\n",
    "from sklearn.linear_model import LogisticRegression\n",
    "from sklearn.model_selection import KFold\n",
    "import os\n",
    "from tempfile import mkstemp\n",
    "import subprocess\n",
    "from IPython.display import Image\n",
    "from IPython.core.display import display\n",
    "from sklearn.svm import SVC\n",
    "from sklearn.tree.export import export_graphviz\n",
    "from sklearn.model_selection import GridSearchCV\n",
    "\n",
    "import matplotlib.pyplot\n",
    "from xgboost.sklearn import XGBClassifier\n",
    "from sklearn import preprocessing\n",
    "from sklearn.preprocessing import Imputer\n",
    "from sklearn.feature_selection import VarianceThreshold\n",
    "from sklearn.feature_selection import SelectKBest\n",
    "from sklearn.feature_selection import f_classif\n",
    "from sklearn.grid_search import GridSearchCV\n",
    "from sklearn import cross_validation"
   ]
  },
  {
   "cell_type": "code",
   "execution_count": 2,
   "metadata": {
    "collapsed": true
   },
   "outputs": [],
   "source": [
    "from sklearn.ensemble import AdaBoostClassifier\n",
    "from sklearn.tree import DecisionTreeClassifier\n",
    "from sklearn.datasets import make_gaussian_quantiles"
   ]
  },
  {
   "cell_type": "markdown",
   "metadata": {},
   "source": [
    "Input:データセット読み込み"
   ]
  },
  {
   "cell_type": "markdown",
   "metadata": {},
   "source": [
    "from sklearn.datasets import load_breast_cancer\n",
    "cancer = load_breast_cancer()"
   ]
  },
  {
   "cell_type": "markdown",
   "metadata": {},
   "source": [
    "X = pd.DataFrame(cancer.data)"
   ]
  },
  {
   "cell_type": "markdown",
   "metadata": {},
   "source": [
    "y=pd.DataFrame(cancer.target)"
   ]
  },
  {
   "cell_type": "markdown",
   "metadata": {},
   "source": [
    "Dataset = pd.concat([ca_data,ca_targe],axis=1)"
   ]
  },
  {
   "cell_type": "markdown",
   "metadata": {},
   "source": [
    "# Input"
   ]
  },
  {
   "cell_type": "markdown",
   "metadata": {},
   "source": [
    "データ作成"
   ]
  },
  {
   "cell_type": "code",
   "execution_count": 3,
   "metadata": {
    "collapsed": true
   },
   "outputs": [],
   "source": [
    "z1 = pd.DataFrame([1 ,0],  columns = ['z1'], index = [\"x1\",\"x2\"])\n",
    "z2 = pd.DataFrame([-1 ,0], columns = ['z2'], index = [\"x1\",\"x2\"])\n",
    "z3 = pd.DataFrame([0 ,1],  columns = ['z3'], index = [\"x1\",\"x2\"])\n",
    "z4 = pd.DataFrame([0 ,-1], columns = ['z4'], index = [\"x1\",\"x2\"])\n",
    "\n",
    "Z = pd.concat([z1,z2,z3,z4], axis = 1).T\n",
    "\n",
    "Y = pd.DataFrame([1,1,-1,-1], index = [\"z1\",\"z2\",\"z3\",\"z4\"], columns = [\"target\"])"
   ]
  },
  {
   "cell_type": "code",
   "execution_count": 4,
   "metadata": {
    "collapsed": true
   },
   "outputs": [],
   "source": [
    "D = pd.concat([Z,Y], axis=1)"
   ]
  },
  {
   "cell_type": "markdown",
   "metadata": {},
   "source": [
    "基本分類器の作成"
   ]
  },
  {
   "cell_type": "code",
   "execution_count": 5,
   "metadata": {},
   "outputs": [],
   "source": [
    "def h1(x1,x2):\n",
    "        if x1 > -0.5:\n",
    "            target = +1\n",
    "        else:\n",
    "            target = -1\n",
    "        return target\n",
    "\n",
    "def h2(x1,x2):\n",
    "        if x1 > -0.5:\n",
    "            target = -1\n",
    "        else:\n",
    "            target = +1\n",
    "\n",
    "        return target        \n",
    "\n",
    "def h3(x1,x2):\n",
    "        if x1 > 0.5:\n",
    "            target = +1\n",
    "        else:\n",
    "            target = -1\n",
    "        return target  \n",
    "\n",
    "def h4(x1,x2):\n",
    "        if x1 > 0.5:\n",
    "            target = -1\n",
    "        else:\n",
    "            target = +1\n",
    "        return target  \n",
    "\n",
    "def h5(x1,x2):\n",
    "        if x2 > -0.5:\n",
    "            target = +1\n",
    "        else:\n",
    "            target = -1\n",
    "        return target  \n",
    "\n",
    "def h6(x1,x2):\n",
    "        if x2 > -0.5:\n",
    "            target = -1\n",
    "        else:\n",
    "            target = +1\n",
    "        return target  \n",
    "\n",
    "def h7(x1,x2):\n",
    "        if x2 > 0.5:\n",
    "            target = +1\n",
    "        else:\n",
    "            target = -1\n",
    "        return target  \n",
    "\n",
    "def h8(x1,x2):\n",
    "        if x2 > 0.5:\n",
    "            target = -1\n",
    "        else:\n",
    "            target = +1\n",
    "        return target  "
   ]
  },
  {
   "cell_type": "code",
   "execution_count": 6,
   "metadata": {},
   "outputs": [],
   "source": [
    "classifierH = [h1,h2,h3,h4,h5,h6,h7,h8] #分類器まとめる"
   ]
  },
  {
   "cell_type": "code",
   "execution_count": 7,
   "metadata": {
    "collapsed": true
   },
   "outputs": [],
   "source": [
    "T = range(3)  #LOOP回数"
   ]
  },
  {
   "cell_type": "markdown",
   "metadata": {},
   "source": [
    "# Process:"
   ]
  },
  {
   "cell_type": "markdown",
   "metadata": {},
   "source": [
    "### process1 重み分布の初期化"
   ]
  },
  {
   "cell_type": "code",
   "execution_count": 8,
   "metadata": {},
   "outputs": [],
   "source": [
    "N = len(D) #データセットの大きさ 図2.2よりmの値\n",
    "weightsD = np.zeros(((len(T)+2,N))) #正規化されていない重み分布\n",
    "weightsD[0] = np.ones(N)/N #初期重み分布\n",
    "\n",
    "Dt = np.zeros((len(T)+2,N)) #正規化されている重み分布\n",
    "Dt[0] = weightsD[0]         #用いる分類器のラベル\n",
    "Z = np.zeros(len(T)+2)      #正規化因子\n",
    "\n",
    "error_rate = np.zeros(len(T)+1) #誤差率\n",
    "alpha      =np.zeros(len(T)+1) #重みα"
   ]
  },
  {
   "cell_type": "code",
   "execution_count": 9,
   "metadata": {},
   "outputs": [],
   "source": [
    "Flag = np.zeros((8,4))               #分類器ごとの正答率\n",
    "mean = np.zeros(8)                   #平均　分類誤差\n",
    "count =np.zeros(8) #予測と正解の一致回数\n",
    "\n",
    "best_Classifierr_list = np.zeros(8) #最良の分類器にフラグを立てる\n",
    "\n",
    "best_Flag = np.zeros((len(T)+1,len(D))) #最良の分類器の f(x)*ht(x)の値格納\n",
    "Ht = np.zeros((len(T)+1,len(D))) #"
   ]
  },
  {
   "cell_type": "code",
   "execution_count": 10,
   "metadata": {},
   "outputs": [],
   "source": [
    "for i in range(8): #分類器の個数\n",
    "    for num in range(len(D)): #特徴量のスケール\n",
    "        Flag[i][num] = (D[\"target\"][num]) * classifierH[i](D[\"x1\"][num],D[\"x2\"][num])\n",
    "        if(Flag[i][num]==1):\n",
    "            count[i] +=1\n",
    "    \n",
    "# meanに分類誤差を格納\n",
    "for i in range(8):\n",
    "    mean[i] = (N-count[i])/N"
   ]
  },
  {
   "cell_type": "code",
   "execution_count": 11,
   "metadata": {},
   "outputs": [],
   "source": [
    "min = 1 #最小値を1と仮定して考えていく\n",
    "\n",
    "for i in range(8):\n",
    "    if(abs(mean[i]) < min):\n",
    "        min = mean[i]\n",
    "for j in range(8):\n",
    "    if (mean[j] == min): #minに最小分類誤差が格納されているので、それと一致した場合にbest_Classfierにフラグ立てる\n",
    "        best_Classifierr_list[j] = np.ones(1)"
   ]
  },
  {
   "cell_type": "code",
   "execution_count": 12,
   "metadata": {},
   "outputs": [],
   "source": [
    "i = 0\n",
    "j = 0\n",
    "while(i < 8):\n",
    "    if( best_Classifierr_list[i] == 1):\n",
    "        for num in range((len(D))):\n",
    "            best_Flag[j][num] = Flag[i][num]\n",
    "            Ht[j][num] =classifierH[i](D[\"x1\"][num],D[\"x2\"][num])\n",
    "        j+=1\n",
    "    i = i + 1"
   ]
  },
  {
   "cell_type": "markdown",
   "metadata": {},
   "source": [
    "### Process2 ~7"
   ]
  },
  {
   "cell_type": "code",
   "execution_count": 16,
   "metadata": {},
   "outputs": [],
   "source": [
    "Z[0] = 1\n",
    "\n",
    "for j in range(4):\n",
    "    for num in range(4):\n",
    "        if( best_Flag[j][num] == -1 ):\n",
    "            error_rate[j] = Dt[j][num]\n",
    "            alpha[j] =  0.5 * np.log( (1- error_rate[j]) / error_rate[j]) #error_rate\n",
    "        \n",
    "        weightsD[j+1][num] = weightsD[j][num] * np.exp( - alpha[j] *  best_Flag[j][num])\n",
    "        \n",
    "        Z[j+1] = np.sum(weightsD[j+1])\n",
    "        \n",
    "        Dt[j+1] = weightsD[j+1] / Z[j+1]\n",
    "        "
   ]
  },
  {
   "cell_type": "code",
   "execution_count": 20,
   "metadata": {},
   "outputs": [
    {
     "data": {
      "text/plain": [
       "array([ 0.25      ,  0.16666667,  0.07294902,  0.01803548])"
      ]
     },
     "execution_count": 20,
     "metadata": {},
     "output_type": "execute_result"
    }
   ],
   "source": [
    "error_rate"
   ]
  },
  {
   "cell_type": "code",
   "execution_count": 19,
   "metadata": {},
   "outputs": [
    {
     "data": {
      "text/plain": [
       "array([ 0.54930614,  0.80471896,  1.27112388,  1.99860721])"
      ]
     },
     "execution_count": 19,
     "metadata": {},
     "output_type": "execute_result"
    }
   ],
   "source": [
    "alpha"
   ]
  },
  {
   "cell_type": "code",
   "execution_count": 28,
   "metadata": {},
   "outputs": [],
   "source": [
    "A =np.zeros((4))\n",
    "B =np.zeros((4))\n",
    "\n",
    "for j in range(4):\n",
    "    for num in range(4):\n",
    "        A[num] = alpha[j] * Ht[j][num]\n",
    "        B[num] +=A[num]\n",
    "\n",
    "H = np.sign(B)"
   ]
  },
  {
   "cell_type": "code",
   "execution_count": 29,
   "metadata": {},
   "outputs": [
    {
     "data": {
      "text/plain": [
       "array([ 1.,  1., -1., -1.])"
      ]
     },
     "execution_count": 29,
     "metadata": {},
     "output_type": "execute_result"
    }
   ],
   "source": [
    "H"
   ]
  },
  {
   "cell_type": "code",
   "execution_count": 36,
   "metadata": {},
   "outputs": [],
   "source": [
    "LOOP_COUNT =[0,1,2,3]"
   ]
  },
  {
   "cell_type": "code",
   "execution_count": 37,
   "metadata": {},
   "outputs": [
    {
     "data": {
      "text/plain": [
       "[<matplotlib.lines.Line2D at 0x139b47d94e0>]"
      ]
     },
     "execution_count": 37,
     "metadata": {},
     "output_type": "execute_result"
    }
   ],
   "source": [
    "plt.plot(LOOP_COUNT,error_rate)"
   ]
  },
  {
   "cell_type": "code",
   "execution_count": null,
   "metadata": {
    "collapsed": true
   },
   "outputs": [],
   "source": []
  }
 ],
 "metadata": {
  "kernelspec": {
   "display_name": "Python 3",
   "language": "python",
   "name": "python3"
  },
  "language_info": {
   "codemirror_mode": {
    "name": "ipython",
    "version": 3
   },
   "file_extension": ".py",
   "mimetype": "text/x-python",
   "name": "python",
   "nbconvert_exporter": "python",
   "pygments_lexer": "ipython3",
   "version": "3.6.3"
  }
 },
 "nbformat": 4,
 "nbformat_minor": 2
}
