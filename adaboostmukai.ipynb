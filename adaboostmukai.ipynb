{
 "cells": [
  {
   "cell_type": "code",
   "execution_count": 299,
   "metadata": {
    "collapsed": true
   },
   "outputs": [],
   "source": [
    "import math\n",
    "from matplotlib import pyplot as plt\n",
    "import numpy as np\n",
    "import inspect\n",
    "import pandas as pd\n",
    "import random"
   ]
  },
  {
   "cell_type": "markdown",
   "metadata": {},
   "source": [
    "基本関数定義"
   ]
  },
  {
   "cell_type": "code",
   "execution_count": 363,
   "metadata": {
    "scrolled": true
   },
   "outputs": [],
   "source": [
    "def h1(x,y):\n",
    "    if x > -0.5:\n",
    "        return 1\n",
    "    else:\n",
    "        return -1\n",
    "\n",
    "def h2(x,y):\n",
    "    if x > -0.5:\n",
    "        return -1\n",
    "    else:\n",
    "        return 1\n",
    "\n",
    "def h3(x,y):\n",
    "    if x > 0.5:\n",
    "        return 1\n",
    "    else:\n",
    "        return -1\n",
    "\n",
    "def h4(x,y):\n",
    "    if x > 0.5:\n",
    "        return -1\n",
    "    else:\n",
    "        return 1\n",
    "def h5(x,y):\n",
    "    if y > -0.5:\n",
    "        return 1\n",
    "    else:\n",
    "        return -1\n",
    "\n",
    "def h6(x,y):\n",
    "    if y > -0.5:\n",
    "        return -1\n",
    "    else:\n",
    "        return 1\n",
    "\n",
    "def h7(x,y):\n",
    "    if y > 0.5:\n",
    "        return 1\n",
    "    else:\n",
    "        return -1\n",
    "\n",
    "def h8(x,y):\n",
    "    if y > 0.5:\n",
    "        return -1\n",
    "    else:\n",
    "        return 1\n",
    "    \n",
    "base = [h1, h2, h3, h4, h5, h6, h7, h8]"
   ]
  },
  {
   "cell_type": "markdown",
   "metadata": {},
   "source": [
    "初期化"
   ]
  },
  {
   "cell_type": "code",
   "execution_count": 364,
   "metadata": {
    "collapsed": true
   },
   "outputs": [],
   "source": [
    "train = np.array([[1,0,1],[-1,0,1],[0,1,-1],[0,-1,-1]])\n",
    "numdata = len(train)\n",
    "d = np.array([1/numdata]*numdata)"
   ]
  },
  {
   "cell_type": "code",
   "execution_count": null,
   "metadata": {
    "collapsed": true
   },
   "outputs": [],
   "source": [
    "for iterations in range(len(base)):\n",
    "    learn = []\n",
    "    for i in range(len(base)):\n",
    "        for j in range(len(train)):\n",
    "            ans = base[i](train[j,0], train[j,1])\n",
    "            learn.append(ans)\n",
    "\n",
    "    learn = np.reshape(learn,(len(base), 4))\n",
    "    learn = learn.T\n",
    "    \n",
    "    er = []\n",
    "    for i in range(len(base)):\n",
    "        error = 0.0\n",
    "        for j in range(len(learn)):\n",
    "            error = error + d[j]* (1-(learn[j,i]* train[j,2]))# obj = learn のときerrorが0になる\n",
    "        error = 0.5* error\n",
    "        er.append(error)\n",
    "    \n",
    "    a = np.c_[base, er]\n",
    "    b = []\n",
    "    for i in range(len(base)):\n",
    "        if a[i,1] < 0.5:\n",
    "            b.append(a[i])\n",
    "    b = np.array(b)\n",
    "    h, e = np.split(b, 2, axis=1)"
   ]
  },
  {
   "cell_type": "markdown",
   "metadata": {},
   "source": [
    "訓練データに弱学習器apply"
   ]
  },
  {
   "cell_type": "code",
   "execution_count": 365,
   "metadata": {},
   "outputs": [
    {
     "data": {
      "text/plain": [
       "array([[ 1, -1,  1, -1,  1, -1, -1,  1],\n",
       "       [-1,  1, -1,  1,  1, -1, -1,  1],\n",
       "       [ 1, -1, -1,  1,  1, -1,  1, -1],\n",
       "       [ 1, -1, -1,  1, -1,  1, -1,  1]])"
      ]
     },
     "execution_count": 365,
     "metadata": {},
     "output_type": "execute_result"
    }
   ],
   "source": [
    "pred = []\n",
    "for i in range(len(base)):\n",
    "    for j in range(len(train)):\n",
    "        ans = base[i](train[j,0], train[j,1])\n",
    "        pred.append(ans)\n",
    "\n",
    "pred = np.reshape(pred, (len(base), 4))\n",
    "pred = pred.T\n",
    "pred"
   ]
  },
  {
   "cell_type": "markdown",
   "metadata": {},
   "source": [
    "誤差計算"
   ]
  },
  {
   "cell_type": "code",
   "execution_count": 366,
   "metadata": {},
   "outputs": [
    {
     "data": {
      "text/plain": [
       "[0.75, 0.25, 0.25, 0.75, 0.25, 0.75, 0.75, 0.25]"
      ]
     },
     "execution_count": 366,
     "metadata": {},
     "output_type": "execute_result"
    }
   ],
   "source": [
    "er = []\n",
    "for i in range(len(base)):\n",
    "    error = 0.0\n",
    "    for j in range(len(pred)):\n",
    "        error = error + d[j]* (1-(pred[j,i]* train[j,2])) # obj = learn のときerrorが0になる\n",
    "    error = 0.5* error\n",
    "    er.append(error)\n",
    "er"
   ]
  },
  {
   "cell_type": "code",
   "execution_count": 367,
   "metadata": {},
   "outputs": [
    {
     "data": {
      "text/plain": [
       "array([[<function h1 at 0x09F8BC00>, 0.75],\n",
       "       [<function h2 at 0x09F8BBB8>, 0.25],\n",
       "       [<function h3 at 0x09F8BB70>, 0.25],\n",
       "       [<function h4 at 0x09F8BB28>, 0.75],\n",
       "       [<function h5 at 0x09F8B8E8>, 0.25],\n",
       "       [<function h6 at 0x09F8B8A0>, 0.75],\n",
       "       [<function h7 at 0x09F8B930>, 0.75],\n",
       "       [<function h8 at 0x09F8B978>, 0.25]], dtype=object)"
      ]
     },
     "execution_count": 367,
     "metadata": {},
     "output_type": "execute_result"
    }
   ],
   "source": [
    "a = np.c_[base, er]\n",
    "a"
   ]
  },
  {
   "cell_type": "markdown",
   "metadata": {},
   "source": [
    "最小誤差を持つ基本関数を抽出(基本学習アルゴリズム)"
   ]
  },
  {
   "cell_type": "code",
   "execution_count": 368,
   "metadata": {},
   "outputs": [],
   "source": [
    "b = []\n",
    "for i in range(len(base)):\n",
    "    if a[i,1] < 0.5:\n",
    "        b.append(a[i])\n",
    "b = np.array(b)\n",
    "h, e = np.split(b, 2, axis=1)\n",
    "h = h.T\n",
    "h = h.tolist()\n",
    "h = [h2, h3, h5, h8]"
   ]
  },
  {
   "cell_type": "code",
   "execution_count": 372,
   "metadata": {
    "scrolled": true
   },
   "outputs": [
    {
     "ename": "TypeError",
     "evalue": "unsupported operand type(s) for *: 'function' and 'function'",
     "output_type": "error",
     "traceback": [
      "\u001b[1;31m---------------------------------------------------------------------------\u001b[0m",
      "\u001b[1;31mTypeError\u001b[0m                                 Traceback (most recent call last)",
      "\u001b[1;32m<ipython-input-372-2029be536aa4>\u001b[0m in \u001b[0;36m<module>\u001b[1;34m()\u001b[0m\n\u001b[0;32m     28\u001b[0m \u001b[1;33m\u001b[0m\u001b[0m\n\u001b[0;32m     29\u001b[0m     \u001b[1;31m# model\u001b[0m\u001b[1;33m\u001b[0m\u001b[1;33m\u001b[0m\u001b[0m\n\u001b[1;32m---> 30\u001b[1;33m     \u001b[0mmodel\u001b[0m \u001b[1;33m=\u001b[0m \u001b[0mmodel\u001b[0m\u001b[1;33m+\u001b[0m \u001b[0ma\u001b[0m\u001b[1;33m*\u001b[0m \u001b[0mh\u001b[0m\u001b[1;33m[\u001b[0m\u001b[0mk\u001b[0m\u001b[1;33m]\u001b[0m\u001b[1;33m\u001b[0m\u001b[0m\n\u001b[0m",
      "\u001b[1;31mTypeError\u001b[0m: unsupported operand type(s) for *: 'function' and 'function'"
     ]
    }
   ],
   "source": [
    "for k in range(len(h)):\n",
    "    \n",
    "    #基本関数適応\n",
    "    pred = []\n",
    "    for j in range(len(train)):\n",
    "        ans = h[0](train[j,0], train[j,1])\n",
    "        pred.append(ans)\n",
    "\n",
    "    pred = np.reshape(pred,(1, 4))\n",
    "    pred = pred.T\n",
    "    \n",
    "    #誤差計算\n",
    "    error = 0.0\n",
    "    for j in range(len(pred)):\n",
    "        error = error + d[j]* (1-(pred[j,0]* train[j,2])) # obj = pred のときerrorが0になる\n",
    "    error = 0.5* error\n",
    "    \n",
    "    #重み計算\n",
    "    al = 0.5* math.log((1-error)/error)\n",
    "    \n",
    "    #分布更新\n",
    "    sum = 0.0\n",
    "    for i in range(numdata):\n",
    "        sum = sum + math.exp(-1* pred[i, 0]* train[i, 2])\n",
    "    for j in range(numdata):\n",
    "        d[j] = math.exp(-1* pred[j, 0]* train[j, 2])/ sum\n",
    "        \n",
    "    # model\n",
    "    model = model+ a* h[k]"
   ]
  },
  {
   "cell_type": "code",
   "execution_count": 369,
   "metadata": {
    "collapsed": true
   },
   "outputs": [],
   "source": [
    "#基本関数適応\n",
    "pred = []\n",
    "for j in range(len(train)):\n",
    "    ans = h[0](train[j,0], train[j,1])\n",
    "    pred.append(ans)\n",
    "\n",
    "pred = np.reshape(pred,(1, 4))\n",
    "pred = pred.T\n",
    "    \n",
    "    #誤差計算\n",
    "error = 0.0\n",
    "for j in range(len(pred)):\n",
    "    error = error + d[j]* (1-(pred[j,0]* train[j,2])) # obj = pred のときerrorが0になる\n",
    "error = 0.5* error\n",
    "    \n",
    "    #重み計算\n",
    "al = 0.5* math.log((1-error)/error)\n",
    "    \n",
    "    #分布更新\n",
    "sum = 0.0\n",
    "for i in range(numdata):\n",
    "    sum = sum + math.exp(-1* pred[i, 0]* train[i, 2])\n",
    "for j in range(numdata):\n",
    "    d[j] = math.exp(-1* pred[j, 0]* train[j, 2])/ sum"
   ]
  },
  {
   "cell_type": "code",
   "execution_count": 370,
   "metadata": {},
   "outputs": [
    {
     "name": "stdout",
     "output_type": "stream",
     "text": [
      "0.5493061443340549\n",
      "[ 0.71123459  0.09625514  0.09625514  0.09625514]\n"
     ]
    }
   ],
   "source": [
    "print(al)\n",
    "print(d)"
   ]
  },
  {
   "cell_type": "code",
   "execution_count": 229,
   "metadata": {},
   "outputs": [
    {
     "data": {
      "text/plain": [
       "array([[-1,  1,  1,  1],\n",
       "       [ 1, -1,  1,  1],\n",
       "       [-1, -1,  1, -1],\n",
       "       [-1, -1, -1,  1]])"
      ]
     },
     "execution_count": 229,
     "metadata": {},
     "output_type": "execute_result"
    }
   ],
   "source": [
    "learn = []\n",
    "for i in range(len(h)):\n",
    "    for j in range(len(train)):\n",
    "        ans = h[i](train[j,0], train[j,1])\n",
    "        learn.append(ans)\n",
    "\n",
    "learn = np.reshape(learn,(len(h), 4))\n",
    "learn = learn.T\n",
    "learn"
   ]
  },
  {
   "cell_type": "code",
   "execution_count": 274,
   "metadata": {},
   "outputs": [
    {
     "data": {
      "text/plain": [
       "-0.4506938556659451"
      ]
     },
     "execution_count": 274,
     "metadata": {},
     "output_type": "execute_result"
    }
   ],
   "source": [
    "error = 0.0\n",
    "for j in range(len(learn)):\n",
    "    error = error + d[j]* (1-(learn[j,0]* train[j,2]))# obj = learn のときerrorが0になる\n",
    "error = 0.5* error\n",
    "                \n",
    "al = 0.5*math.log((1-error)/error)\n",
    "al"
   ]
  },
  {
   "cell_type": "code",
   "execution_count": 222,
   "metadata": {},
   "outputs": [],
   "source": [
    "sum = 0.0\n",
    "for i in range(numdata):\n",
    "    sum = sum + math.exp(-1* learn[i, 0]* train[i, 2])\n",
    "for j in range(numdata):    \n",
    "    d[j] = math.exp(-1* learn[j, 0]* train[j, 2])/ sum"
   ]
  },
  {
   "cell_type": "code",
   "execution_count": null,
   "metadata": {},
   "outputs": [],
   "source": []
  }
 ],
 "metadata": {
  "kernelspec": {
   "display_name": "Python 3",
   "language": "python",
   "name": "python3"
  },
  "language_info": {
   "codemirror_mode": {
    "name": "ipython",
    "version": 3
   },
   "file_extension": ".py",
   "mimetype": "text/x-python",
   "name": "python",
   "nbconvert_exporter": "python",
   "pygments_lexer": "ipython3",
   "version": "3.6.1"
  }
 },
 "nbformat": 4,
 "nbformat_minor": 2
}
